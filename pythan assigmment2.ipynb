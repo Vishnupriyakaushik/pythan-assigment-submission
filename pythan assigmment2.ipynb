{
 "cells": [
  {
   "cell_type": "code",
   "execution_count": null,
   "id": "f956d27e-c5dc-437c-8a69-779ef6d7583a",
   "metadata": {},
   "outputs": [],
   "source": [
    "1.Who developed Python Programming Language?\n",
    "ans.  Guido van Rossum"
   ]
  },
  {
   "cell_type": "code",
   "execution_count": null,
   "id": "63ab6ea8-44b1-4dbd-9a59-5ebfc6463b2c",
   "metadata": {},
   "outputs": [],
   "source": [
    "2.Which type of Programming does Python support? \n",
    "ans. Python is an interpreted programming language, which supports object-oriented, structured, and functional programming"
   ]
  },
  {
   "cell_type": "code",
   "execution_count": null,
   "id": "68f29c3c-6192-4c54-a998-d5657bbd6d95",
   "metadata": {},
   "outputs": [],
   "source": [
    "3. Is Python case sensitive when dealing with identifiers? \n",
    "ans. Case is always significant while dealing with identifiers in python."
   ]
  },
  {
   "cell_type": "code",
   "execution_count": null,
   "id": "7544c5e6-f953-4b53-9a1b-2fdb96c0e008",
   "metadata": {},
   "outputs": [],
   "source": [
    "4. What is the correct extension of the Python file? \n",
    "ans.  ‘.py’ is the correct extension of the Python file. Python programs can be written in any text editor. To save these programs we need to save in files with file extension ‘.py’."
   ]
  },
  {
   "cell_type": "code",
   "execution_count": null,
   "id": "5ee801c5-579f-40a0-9930-1c4b845d227d",
   "metadata": {},
   "outputs": [],
   "source": [
    "5. Is Python code compiled or interpreted?\n",
    "ans. Python code is both compiled and interpreted"
   ]
  },
  {
   "cell_type": "code",
   "execution_count": null,
   "id": "808443a6-4554-4e6f-a5ae-0722fb434470",
   "metadata": {},
   "outputs": [],
   "source": [
    "6. Name a few blocks of code used to define in Python language?\n",
    "ans.  Indentation"
   ]
  },
  {
   "cell_type": "code",
   "execution_count": null,
   "id": "56f0f19a-5dc9-4fca-a105-055d3cac3481",
   "metadata": {},
   "outputs": [],
   "source": [
    "7. State a character used to give single-line comments in Python?\n",
    "ans. #"
   ]
  },
  {
   "cell_type": "code",
   "execution_count": null,
   "id": "ac2dbfc2-976c-4448-9ec8-562b9aac57c9",
   "metadata": {},
   "outputs": [],
   "source": [
    "8. Mention functions which can help us to find the version of python that we are currently working on?\n",
    "ans. sys.version"
   ]
  },
  {
   "cell_type": "code",
   "execution_count": null,
   "id": "e5d997d1-59a3-40e0-866c-bdd0423c2fa2",
   "metadata": {},
   "outputs": [],
   "source": [
    "9. Python supports the creation of anonymous functions at runtime, using a construct called \n",
    "ans. Python supports the creation of anonymous functions (i.e. functions that are not bound to a name) at runtime, using a construct called lambda. Lambda functions are restricted to a single expression. They can be used wherever normal functions can be used\n"
   ]
  },
  {
   "cell_type": "code",
   "execution_count": null,
   "id": "10fd80c9-3e15-4def-a9fc-6ec5c9f4e22a",
   "metadata": {},
   "outputs": [],
   "source": [
    "10. What does pip stand for python?\n",
    "ans. pip is a package manager for python. Which is also called Preferred Installer Program."
   ]
  },
  {
   "cell_type": "code",
   "execution_count": null,
   "id": "b503cda4-b10f-4d6c-9e57-44a53b5ffcb9",
   "metadata": {},
   "outputs": [],
   "source": [
    "11. Mention a few built-in functions in python?\n",
    "ans. The print function, print() is a built-in function which prints a value directly to the system output."
   ]
  },
  {
   "cell_type": "code",
   "execution_count": null,
   "id": "16500463-1bff-4530-ab1e-99b823c2667d",
   "metadata": {},
   "outputs": [],
   "source": [
    "12. What is the maximum possible length of an identifier in Python?\n",
    "ans.Identifiers can be of any length\n"
   ]
  },
  {
   "cell_type": "code",
   "execution_count": null,
   "id": "6571910b-cfeb-4e7e-8c31-f771981c5c94",
   "metadata": {},
   "outputs": [],
   "source": [
    "13. What are the benefits of using Python?\n",
    "ans.Python programming language is a general-purpose, interpreted, and high-level language that mainly offers code readability. It is largely used by professional programmers and developers across a variety of fields, including Web Development and Machine Learning.\n",
    "Bnefits of pythan:-\n",
    ".Easy-to-learn and Easy-to-use\n",
    ".Improves Productivity\n",
    ".Interpreted Language\n",
    ".Open-source\n",
    ".Easily Portable\n",
    ".Massive Libraries\n",
    ".Easy-to-integrate with Other Programming Languages"
   ]
  },
  {
   "cell_type": "code",
   "execution_count": null,
   "id": "108afdea-2a80-4bd1-8fec-bab92ecd7393",
   "metadata": {},
   "outputs": [],
   "source": [
    "14. How is memory managed in Python? \n",
    "ans.Memory in Python is managed by Python private heap space. All Python objects and data structures are located in a private heap. This private heap is taken care of by Python Interpreter itself, and a programmer doesn't have access to this private heap."
   ]
  },
  {
   "cell_type": "code",
   "execution_count": null,
   "id": "d9e3d023-68ca-467b-ba6c-d4ab1647ae60",
   "metadata": {},
   "outputs": [],
   "source": [
    "15.. How to install Python on Windows and set path variables?\n",
    "ans.The complete path of python.exe can be added by:\n",
    "\n",
    ".Right-clicking This PC and going to Properties.\n",
    "\n",
    ".Clicking on the Advanced system settings in the menu on the left.\n",
    "\n",
    ".Clicking on the Environment Variables button o​n the bottom right.\n",
    "\n",
    ".In the System variables section, selecting the Path variable and clicking on Edit. The next screen will show all the directories that are currently a part of the PATH variable.\n",
    "\n",
    ".Clicking on New and entering Python’s install directory.\n",
    "\n",
    "Python can now be used directly from the command prompt without having to write its location. Try executing the command python --version; it will output the version of Python installed on your system."
   ]
  },
  {
   "cell_type": "code",
   "execution_count": null,
   "id": "442da07e-3078-40dc-9c26-17579a3fbf5f",
   "metadata": {},
   "outputs": [],
   "source": [
    " 16.  indentation required in python?\n",
    " ans.  Indentation is mandatory in python to define the blocks of statements "
   ]
  }
 ],
 "metadata": {
  "kernelspec": {
   "display_name": "Python 3 (ipykernel)",
   "language": "python",
   "name": "python3"
  },
  "language_info": {
   "codemirror_mode": {
    "name": "ipython",
    "version": 3
   },
   "file_extension": ".py",
   "mimetype": "text/x-python",
   "name": "python",
   "nbconvert_exporter": "python",
   "pygments_lexer": "ipython3",
   "version": "3.10.8"
  }
 },
 "nbformat": 4,
 "nbformat_minor": 5
}
